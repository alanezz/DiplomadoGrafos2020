{
 "cells": [
  {
   "cell_type": "markdown",
   "metadata": {},
   "source": [
    "# Clase 01 - Introducción\n",
    "\n",
    "Mediante este `Jupyter Notebook` vamos a ejecutar un algoritmo clásico en teoría de grafos llamado Breath-First Search (BFS). Este algoritmo nos sirve para conocer todos los nodos conectados a un nodo inicial."
   ]
  },
  {
   "cell_type": "code",
   "execution_count": 6,
   "metadata": {},
   "outputs": [
    {
     "data": {
      "image/png": "[encoded data removed]",
      "text/plain": [
       "<Figure size 432x288 with 1 Axes>"
      ]
     },
     "metadata": {},
     "output_type": "display_data"
    }
   ],
   "source": [
    "%matplotlib inline\n",
    "\n",
    "import networkx as nx\n",
    "import matplotlib.pyplot as plt\n",
    "\n",
    "# Estos son los nodos\n",
    "NODES = [1, 2, 3, 4, 5]\n",
    "\n",
    "# Estas son las aristas\n",
    "G = nx.DiGraph()\n",
    "G.add_nodes_from(NODES)\n",
    "G.add_edge(1, 2)\n",
    "G.add_edge(1, 3)\n",
    "G.add_edge(1, 5)\n",
    "G.add_edge(2, 4)\n",
    "G.add_edge(4, 3)\n",
    "G.add_edge(5, 2)\n",
    "\n",
    "# Indicamos las posiciones de los nodos para dibujarlos\n",
    "pos = nx.spring_layout(G)\n",
    "# pos = {1: (0,0), 2: (2,0), 3: (2,2), 4: (4,0), 5: (0,2)}\n",
    "\n",
    "# Ejecutamos los comandos para dibujar\n",
    "nx.draw_networkx_labels(G, pos, font_size=20, font_family='sans-serif')\n",
    "nx.draw_networkx_nodes(G, pos, node_size=1000)\n",
    "edges = nx.draw_networkx_edges(G, pos, node_size=1000, arrowstyle='->')\n",
    "\n",
    "# Mostramos el dibujo\n",
    "nx.draw(G, pos)\n",
    "plt.show()\n",
    "\n",
    "# Generamos una matriz de adyacencia\n",
    "adjacency_matrix = nx.to_numpy_matrix(G)"
   ]
  },
  {
   "cell_type": "code",
   "execution_count": 7,
   "metadata": {},
   "outputs": [
    {
     "name": "stdout",
     "output_type": "stream",
     "text": [
      "[[0. 1. 1. 0. 1.]\n",
      " [0. 0. 0. 1. 0.]\n",
      " [0. 0. 0. 0. 0.]\n",
      " [0. 0. 1. 0. 0.]\n",
      " [0. 1. 0. 0. 0.]]\n",
      "Nodos conectados:\n",
      "Nodo 1\n",
      "Nodo 2\n",
      "Nodo 3\n",
      "Nodo 4\n",
      "Nodo 5\n"
     ]
    }
   ],
   "source": [
    "print(adjacency_matrix)\n",
    "\n",
    "STARTING_NODE = 1\n",
    "STARTING_NODE = STARTING_NODE - 1\n",
    "\n",
    "visited = set()\n",
    "queue = [STARTING_NODE]\n",
    "\n",
    "while queue:\n",
    "    vertex = queue.pop(0)\n",
    "    if vertex not in visited:\n",
    "        visited.add(vertex)\n",
    "        for i in range(adjacency_matrix.shape[0]):\n",
    "            if adjacency_matrix[vertex, i] == 1:\n",
    "                queue.append(i)\n",
    "        \n",
    "print(\"Nodos conectados:\")\n",
    "for node in visited:\n",
    "    print(\"Nodo {}\".format(node + 1))"
   ]
  },
  {
   "cell_type": "markdown",
   "metadata": {},
   "source": [
    "# Actividad\n",
    "\n",
    "1. Agregue una única arista al grafo para que desde el nodo 5 se pueda alcanzar al nodo 2 y al 4. Visualice el grafo.\n",
    "2. Agruege más nodos y aristas al grafo para crear una componente no conectada a los nodos que ya están en el grafo (detalles de esto en clases). Corra el algoritmo de BFS de nuevo y muestre que desde cada nuevo nodo no puedo alcanzar ninguno del grafo original. Visualice el nuevo grafo.\n",
    "\n",
    "*Observación*: la visualización automática puede no ser útil. En caso de ser necesario descomente la línea con posiciones para indicar manualmente las posiciones de los nodos en el dibujo."
   ]
  }
 ],
 "metadata": {
  "kernelspec": {
   "display_name": "Python 3",
   "language": "python",
   "name": "python3"
  },
  "language_info": {
   "codemirror_mode": {
    "name": "ipython",
    "version": 3
   },
   "file_extension": ".py",
   "mimetype": "text/x-python",
   "name": "python",
   "nbconvert_exporter": "python",
   "pygments_lexer": "ipython3",
   "version": "3.7.7"
  }
 },
 "nbformat": 4,
 "nbformat_minor": 2
}
